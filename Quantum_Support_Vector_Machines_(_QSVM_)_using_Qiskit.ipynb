{
  "nbformat": 4,
  "nbformat_minor": 0,
  "metadata": {
    "colab": {
      "provenance": [],
      "authorship_tag": "ABX9TyNAvmha3O+wsfe+JkvjFqmm",
      "include_colab_link": true
    },
    "kernelspec": {
      "name": "python3",
      "display_name": "Python 3"
    },
    "language_info": {
      "name": "python"
    }
  },
  "cells": [
    {
      "cell_type": "markdown",
      "metadata": {
        "id": "view-in-github",
        "colab_type": "text"
      },
      "source": [
        "<a href=\"https://colab.research.google.com/github/AslauAlexandru/quantum_machine_learning/blob/main/Quantum_Support_Vector_Machines_(_QSVM_)_using_Qiskit.ipynb\" target=\"_parent\"><img src=\"https://colab.research.google.com/assets/colab-badge.svg\" alt=\"Open In Colab\"/></a>"
      ]
    },
    {
      "cell_type": "markdown",
      "source": [
        "# Quantum Support Vector Machines ( QSVM ) using Qiskit"
      ],
      "metadata": {
        "id": "IJB5tlftqf1Q"
      }
    },
    {
      "cell_type": "markdown",
      "source": [
        "## Installing Dependencies"
      ],
      "metadata": {
        "id": "Efw_TqLPqctN"
      }
    },
    {
      "cell_type": "code",
      "execution_count": 1,
      "metadata": {
        "colab": {
          "base_uri": "https://localhost:8080/",
          "height": 53
        },
        "id": "FhXD6Npmpnno",
        "outputId": "2b75ef34-0768-4ead-f03a-3f000e3411ae"
      },
      "outputs": [
        {
          "output_type": "execute_result",
          "data": {
            "text/plain": [
              "'\\n!uv pip install scikit-learn\\n#!uv pip install scikit-learn==1.2.1\\n!uv pip install pennylane==0.26\\n!uv pip install qiskit==0.39.2\\n!uv pip install qiskit_machine_learning==0.5.0\\n'"
            ],
            "application/vnd.google.colaboratory.intrinsic+json": {
              "type": "string"
            }
          },
          "metadata": {},
          "execution_count": 1
        }
      ],
      "source": [
        "\"\"\"\n",
        "!uv pip install scikit-learn\n",
        "#!uv pip install scikit-learn==1.2.1\n",
        "!uv pip install pennylane==0.26\n",
        "!uv pip install qiskit==0.39.2\n",
        "!uv pip install qiskit_machine_learning==0.5.0\n",
        "\"\"\""
      ]
    },
    {
      "cell_type": "code",
      "metadata": {
        "colab": {
          "base_uri": "https://localhost:8080/"
        },
        "id": "10b9d766",
        "outputId": "febc97e3-f243-4df7-f57d-d1eccc07e235"
      },
      "source": [
        "#!pip uninstall numpy -y\n",
        "!uv pip install scikit-learn pennylane qiskit qiskit_machine_learning numpy"
      ],
      "execution_count": 2,
      "outputs": [
        {
          "output_type": "stream",
          "name": "stdout",
          "text": [
            "\u001b[2mUsing Python 3.11.13 environment at: /usr\u001b[0m\n",
            "\u001b[2mAudited \u001b[1m5 packages\u001b[0m \u001b[2min 250ms\u001b[0m\u001b[0m\n"
          ]
        }
      ]
    },
    {
      "cell_type": "markdown",
      "source": [
        "## Setting Up Data and Preprocessing"
      ],
      "metadata": {
        "id": "85mBlcSgqscA"
      }
    },
    {
      "cell_type": "code",
      "source": [
        "# Quantum Support Vector Machines ( QSVM ) using Qiskit.:\n",
        "# https://medium.com/@devmallyakarar/quantum-support-vector-machines-qsvm-using-qiskit-eee347e81d83\n",
        "\n",
        "import numpy as np\n",
        "seed = 1234\n",
        "np.random.seed(seed)\n",
        "\n",
        "from sklearn.datasets import load_wine\n",
        "x, y = load_wine(return_X_y=True)\n",
        "\n",
        "x = x[:59+71]\n",
        "y = y[:59+71]\n",
        "\n",
        "from sklearn.model_selection import train_test_split\n",
        "x_tr, x_test, y_tr, y_test = train_test_split(x, y, train_size=0.9)\n",
        "\n",
        "from sklearn.preprocessing import MaxAbsScaler\n",
        "scaler = MaxAbsScaler()\n",
        "x_tr = scaler.fit_transform(x_tr)\n",
        "\n",
        "x_test = scaler.transform(x_test)\n",
        "x_test = np.clip(x_test, 0, 1)"
      ],
      "metadata": {
        "id": "ZvS2kYDPqJcl"
      },
      "execution_count": 3,
      "outputs": []
    },
    {
      "cell_type": "markdown",
      "source": [
        "##  Quantum Kernel and Support Vector Machine"
      ],
      "metadata": {
        "id": "46KJwl5prQHB"
      }
    },
    {
      "cell_type": "code",
      "source": [
        "import pennylane as qml\n",
        "\n",
        "nqubits = 4\n",
        "dev = qml.device(\"lightning.qubit\", wires=nqubits)\n",
        "\n",
        "@qml.qnode(dev)\n",
        "def kernel_circ(a, b):\n",
        "    qml.AmplitudeEmbedding(\n",
        "        a, wires=range(nqubits), pad_with=0, normalize=True)\n",
        "    qml.adjoint(qml.AmplitudeEmbedding(\n",
        "        b, wires=range(nqubits), pad_with=0, normalize=True))\n",
        "    return qml.probs(wires=range(nqubits))\n",
        "\n",
        "from sklearn.svm import SVC\n",
        "def qkernel(A, B):\n",
        "    return np.array([[kernel_circ(a, b)[0] for b in B] for a in A])\n",
        "\n",
        "svm = SVC(kernel=qkernel).fit(x_tr, y_tr)\n",
        "\n",
        "from sklearn.metrics import accuracy_score\n",
        "print(\"Accuracy:\", accuracy_score(svm.predict(x_test), y_test))"
      ],
      "metadata": {
        "colab": {
          "base_uri": "https://localhost:8080/"
        },
        "id": "P0FK3L4Lqr_A",
        "outputId": "5496ea73-68d8-4e32-a2a1-231469c661e4"
      },
      "execution_count": 4,
      "outputs": [
        {
          "output_type": "stream",
          "name": "stderr",
          "text": [
            "/usr/local/lib/python3.11/dist-packages/pennylane/capture/capture_operators.py:33: RuntimeWarning: PennyLane is not yet compatible with JAX versions > 0.4.28. You have version 0.5.2 installed. Please downgrade JAX to <=0.4.28 to avoid runtime errors.\n",
            "  warnings.warn(\n"
          ]
        },
        {
          "output_type": "stream",
          "name": "stdout",
          "text": [
            "Accuracy: 0.9230769230769231\n"
          ]
        }
      ]
    },
    {
      "cell_type": "markdown",
      "source": [
        "## PCA for Dimensionality Reduction"
      ],
      "metadata": {
        "id": "yYTlB9sEthSW"
      }
    },
    {
      "cell_type": "code",
      "source": [
        "from sklearn.decomposition import PCA\n",
        "pca = PCA(n_components=8)\n",
        "xs_tr = pca.fit_transform(x_tr)\n",
        "xs_test = pca.transform(x_test)\n",
        "\n",
        "nqubits = 8\n",
        "dev = qml.device(\"lightning.qubit\", wires=nqubits)\n",
        "\n",
        "@qml.qnode(dev)\n",
        "def kernel_circ(a, b):\n",
        "    qml.AngleEmbedding(a, wires=range(nqubits))\n",
        "    qml.adjoint(qml.AngleEmbedding(b, wires=range(nqubits)))\n",
        "    return qml.probs(wires=range(nqubits))\n",
        "\n",
        "svm = SVC(kernel=qkernel).fit(xs_tr, y_tr)\n",
        "\n",
        "print(\"Accuracy:\", accuracy_score(svm.predict(xs_test), y_test))"
      ],
      "metadata": {
        "colab": {
          "base_uri": "https://localhost:8080/"
        },
        "id": "wL6-C5z1qsBQ",
        "outputId": "3d765c3e-cd71-459f-ddd0-a7482c86ed90"
      },
      "execution_count": 5,
      "outputs": [
        {
          "output_type": "stream",
          "name": "stdout",
          "text": [
            "Accuracy: 1.0\n"
          ]
        }
      ]
    },
    {
      "cell_type": "markdown",
      "source": [
        "##  ZZFeatureMap and SVM with Quantum Kernel"
      ],
      "metadata": {
        "id": "qdMmsqhotxSY"
      }
    },
    {
      "cell_type": "code",
      "source": [
        "from itertools import combinations\n",
        "\n",
        "def ZZFeatureMap(nqubits, data):\n",
        "    nload = min(len(data), nqubits)\n",
        "    for i in range(nload):\n",
        "        qml.Hadamard(i)\n",
        "        qml.RZ(2.0 * data[i], wires=i)\n",
        "    for pair in list(combinations(range(nload), 2)):\n",
        "        q0 = pair[0]\n",
        "        q1 = pair[1]\n",
        "        qml.CZ(wires=[q0, q1])\n",
        "        qml.RZ(2.0 * (np.pi - data[q0]) * (np.pi - data[q1]), wires=q1)\n",
        "        qml.CZ(wires=[q0, q1])\n",
        "\n",
        "nqubits = 4\n",
        "dev = qml.device(\"lightning.qubit\", wires=nqubits)\n",
        "\n",
        "@qml.qnode(dev)\n",
        "def kernel_circ(a, b):\n",
        "    ZZFeatureMap(nqubits, a)\n",
        "    qml.adjoint(ZZFeatureMap)(nqubits, b)\n",
        "    return qml.probs(wires=range(nqubits))\n",
        "\n",
        "svm = SVC(kernel=qkernel).fit(xs_tr, y_tr)\n",
        "print(\"Accuracy:\", accuracy_score(svm.predict(xs_test), y_test))"
      ],
      "metadata": {
        "colab": {
          "base_uri": "https://localhost:8080/"
        },
        "id": "TXOUXjgBtk_9",
        "outputId": "e801266c-50e4-4868-8b11-4916cff77602"
      },
      "execution_count": 6,
      "outputs": [
        {
          "output_type": "stream",
          "name": "stdout",
          "text": [
            "Accuracy: 0.8461538461538461\n"
          ]
        }
      ]
    },
    {
      "cell_type": "markdown",
      "source": [
        "## Using Qiskit for Quantum SVM"
      ],
      "metadata": {
        "id": "uZx9j_TpuvxL"
      }
    },
    {
      "cell_type": "code",
      "metadata": {
        "id": "d3fe0813"
      },
      "source": [
        "#!pip uninstall qiskit qiskit_machine_learning qiskit_aer -y\n",
        "#!uv pip install qiskit==0.45.0 qiskit_machine_learning==0.7.0 qiskit_aer==0.13.0"
      ],
      "execution_count": 7,
      "outputs": []
    },
    {
      "cell_type": "code",
      "source": [
        "from qiskit import *\n",
        "from qiskit.circuit import Parameter\n",
        "parameter = Parameter(\"x\")\n",
        "qc = QuantumCircuit(1)\n",
        "qc.rx(parameter, 0)\n",
        "\n",
        "from qiskit.circuit import ParameterVector\n",
        "parameter = ParameterVector(\"x\", length=2)\n",
        "qc = QuantumCircuit(2)\n",
        "qc.rx(parameter[0], 0)\n",
        "qc.rx(parameter[1], 1)\n",
        "\n",
        "from qiskit.circuit.library import ZZFeatureMap\n",
        "\n",
        "zzfm = ZZFeatureMap(8)\n",
        "\n",
        "\"\"\"\n",
        "# You need to try this to verify FidelityQuantumKernel as QuantumKernel or QuantumKernel,\n",
        "# because depends on qiskit_machine_learning.kernels version\n",
        "# Attempting an alternative import path for QuantumKernel\n",
        "try:\n",
        "    from qiskit_machine_learning.kernels import QuantumKernel\n",
        "except ImportError:\n",
        "    # Trying a common alternative/successor class\n",
        "    from qiskit_machine_learning.kernels import FidelityQuantumKernel as QuantumKernel\n",
        "\"\"\"\n",
        "\n",
        "from qiskit_machine_learning.kernels import FidelityQuantumKernel as QuantumKernel\n",
        "\n",
        "from qiskit.providers.aer import AerSimulator\n",
        "\n",
        "# Modified to remove the quantum_instance argument\n",
        "qkernel = QuantumKernel(feature_map=zzfm)\n",
        "\n",
        "from qiskit_machine_learning.algorithms import QSVC\n",
        "\n",
        "# In newer versions, the quantum instance might be passed to QSVC or configured differently\n",
        "# If this still fails, we may need to explicitly pass a backend to QSVC or update imports further\n",
        "qsvm = QSVC(quantum_kernel=qkernel)\n",
        "qsvm.fit(xs_tr, y_tr)\n",
        "\n",
        "print(\"Accuracy:\", accuracy_score(qsvm.predict(xs_test), y_test))"
      ],
      "metadata": {
        "colab": {
          "base_uri": "https://localhost:8080/"
        },
        "id": "AkAEALlEtlCw",
        "outputId": "e711ce70-bc67-4a9e-866b-63d98053013a"
      },
      "execution_count": 8,
      "outputs": [
        {
          "output_type": "stream",
          "name": "stdout",
          "text": [
            "Accuracy: 0.7692307692307693\n"
          ]
        }
      ]
    },
    {
      "cell_type": "code",
      "source": [],
      "metadata": {
        "id": "H2UfFP9AqJfb"
      },
      "execution_count": 8,
      "outputs": []
    }
  ]
}